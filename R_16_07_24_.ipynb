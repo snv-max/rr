{
  "nbformat": 4,
  "nbformat_minor": 0,
  "metadata": {
    "colab": {
      "provenance": []
    },
    "kernelspec": {
      "name": "ir",
      "display_name": "R"
    },
    "language_info": {
      "name": "R"
    }
  },
  "cells": [
    {
      "cell_type": "code",
      "execution_count": 1,
      "metadata": {
        "id": "3R8w6r4tspml",
        "colab": {
          "base_uri": "https://localhost:8080/",
          "height": 34
        },
        "outputId": "4b2371b3-3e3c-4738-8063-4308f02521b6"
      },
      "outputs": [
        {
          "output_type": "display_data",
          "data": {
            "text/html": [
              "'hello world'"
            ],
            "text/markdown": "'hello world'",
            "text/latex": "'hello world'",
            "text/plain": [
              "[1] \"hello world\""
            ]
          },
          "metadata": {}
        }
      ],
      "source": [
        "\"hello world\""
      ]
    }
  ]
}